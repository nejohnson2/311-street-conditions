{
 "metadata": {
  "name": "",
  "signature": "sha256:f05992f7032d815bb70ce0b08ec429be5a770a47ee97ae639202e0b560f4137f"
 },
 "nbformat": 3,
 "nbformat_minor": 0,
 "worksheets": [
  {
   "cells": [
    {
     "cell_type": "code",
     "collapsed": false,
     "input": [
      "import pandas as pd"
     ],
     "language": "python",
     "metadata": {},
     "outputs": [],
     "prompt_number": 5
    },
    {
     "cell_type": "code",
     "collapsed": false,
     "input": [
      "data = pd.read_json('https://data.cityofnewyork.us/resource/erm2-nwe9.json')\n",
      "#data = pd.read_csv('')"
     ],
     "language": "python",
     "metadata": {},
     "outputs": [],
     "prompt_number": 6
    },
    {
     "cell_type": "code",
     "collapsed": false,
     "input": [
      "data['complaint_type'].unique()"
     ],
     "language": "python",
     "metadata": {},
     "outputs": [
      {
       "metadata": {},
       "output_type": "pyout",
       "prompt_number": 7,
       "text": [
        "array([u'Opinion for the Mayor', u'Street Condition',\n",
        "       u'Noise - Street/Sidewalk', u'Illegal Parking', u'Blocked Driveway',\n",
        "       u'Noise - Commercial', u'Noise - Vehicle', u'Rodent',\n",
        "       u'Street Sign - Damaged', u'DOF Literature Request',\n",
        "       u'Benefit Card Replacement', u'Street Light Condition',\n",
        "       u'For Hire Vehicle Complaint', u'Sidewalk Condition',\n",
        "       u'Fire Safety Director - F58', u'Graffiti',\n",
        "       u'Traffic Signal Condition', u'Street Sign - Missing',\n",
        "       u'Highway Condition', u'Agency Issues', u'Dirty Conditions',\n",
        "       u'Food Poisoning', u'HEAT/HOT WATER',\n",
        "       u'Missed Collection (All Materials)', u'Noise - Park',\n",
        "       u'Unsanitary Animal Pvt Property', u'Water System', u'Animal Abuse',\n",
        "       u'Damaged Tree', u'Noise', u'Overgrown Tree/Branches', u'Sewer',\n",
        "       u'Indoor Sewage', u'Taxi Complaint', u'Consumer Complaint',\n",
        "       u'Derelict Vehicle', u'Sanitation Condition', u'Broken Muni Meter',\n",
        "       u'Derelict Vehicles', u'Homeless Person Assistance',\n",
        "       u'Animal in a Park', u'HPD Literature Request', u'Water Quality',\n",
        "       u'Food Establishment', u'Other Enforcement',\n",
        "       u'Recycling Enforcement', u'Illegal Tree Damage',\n",
        "       u'Homeless Encampment', u'Taxi Compliment', u'Elevator',\n",
        "       u'Building/Use', u'Smoking', u'Industrial Waste',\n",
        "       u'DOT Literature Request', u'Dead Tree', u'Vacant Lot',\n",
        "       u'Water Conservation', u'Street Sign - Dangling', u'Traffic',\n",
        "       u'Drinking Water', u'Root/Sewer/Sidewalk Condition',\n",
        "       u'General Construction/Plumbing', u'Violation of Park Rules'], dtype=object)"
       ]
      }
     ],
     "prompt_number": 7
    },
    {
     "cell_type": "markdown",
     "metadata": {},
     "source": [
      "### Subset Data by Zip and Complaint Type"
     ]
    },
    {
     "cell_type": "code",
     "collapsed": false,
     "input": [
      "items = ['Street Condition', 'Sidewalk Condition', 'Dirty Conditions', 'Missed Collection (All Materials)', 'Sanitation Condition', 'Derelict Vehicles', 'Derelict Vehicle', 'Recycling Enforcement', 'Industrial Waste', 'Vacant Lot', 'Root/Sewer/Sidewalk Condition']\n",
      "items"
     ],
     "language": "python",
     "metadata": {},
     "outputs": [
      {
       "metadata": {},
       "output_type": "pyout",
       "prompt_number": 8,
       "text": [
        "['Street Condition',\n",
        " 'Sidewalk Condition',\n",
        " 'Dirty Conditions',\n",
        " 'Missed Collection (All Materials)',\n",
        " 'Sanitation Condition',\n",
        " 'Derelict Vehicles',\n",
        " 'Derelict Vehicle',\n",
        " 'Recycling Enforcement',\n",
        " 'Industrial Waste',\n",
        " 'Vacant Lot',\n",
        " 'Root/Sewer/Sidewalk Condition']"
       ]
      }
     ],
     "prompt_number": 8
    },
    {
     "cell_type": "code",
     "collapsed": false,
     "input": [
      "data = data[(data['incident_zip'] == 11222) & (data['complaint_type'].isin(items))]"
     ],
     "language": "python",
     "metadata": {},
     "outputs": [],
     "prompt_number": 9
    },
    {
     "cell_type": "code",
     "collapsed": false,
     "input": [
      "data.to_csv('../Data/311-Street-Conditions.csv', index=False)"
     ],
     "language": "python",
     "metadata": {},
     "outputs": [],
     "prompt_number": 10
    }
   ],
   "metadata": {}
  }
 ]
}