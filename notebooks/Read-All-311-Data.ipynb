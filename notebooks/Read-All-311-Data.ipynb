{
 "metadata": {
  "name": "",
  "signature": "sha256:d32999bc377d6f9c56c1d0f9ae2a2a207bc9f362c756b7e8a129fb9bb0689ccc"
 },
 "nbformat": 3,
 "nbformat_minor": 0,
 "worksheets": [
  {
   "cells": [
    {
     "cell_type": "code",
     "collapsed": false,
     "input": [
      "import pandas as pd\n",
      "import matplotlib.pyplot as plt"
     ],
     "language": "python",
     "metadata": {},
     "outputs": [],
     "prompt_number": 32
    },
    {
     "cell_type": "code",
     "collapsed": false,
     "input": [
      "#data = pd.read_json('https://data.cityofnewyork.us/resource/erm2-nwe9.json')\n",
      "data = pd.read_csv('../Data/311_Service_Requests_from_2010_to_Present.csv')"
     ],
     "language": "python",
     "metadata": {},
     "outputs": [
      {
       "output_type": "stream",
       "stream": "stderr",
       "text": [
        "/usr/local/lib/python2.7/site-packages/pandas/io/parsers.py:1159: DtypeWarning: Columns (8,17,18,20,37,38,39,40,41,44,45,46,47,48) have mixed types. Specify dtype option on import or set low_memory=False.\n",
        "  data = self._reader.read(nrows)\n"
       ]
      }
     ],
     "prompt_number": 3
    },
    {
     "cell_type": "code",
     "collapsed": false,
     "input": [
      "data.columns"
     ],
     "language": "python",
     "metadata": {},
     "outputs": [
      {
       "metadata": {},
       "output_type": "pyout",
       "prompt_number": 5,
       "text": [
        "Index([u'Unique Key', u'Created Date', u'Closed Date', u'Agency', u'Agency Name', u'Complaint Type', u'Descriptor', u'Location Type', u'Incident Zip', u'Incident Address', u'Street Name', u'Cross Street 1', u'Cross Street 2', u'Intersection Street 1', u'Intersection Street 2', u'Address Type', u'City', u'Landmark', u'Facility Type', u'Status', u'Due Date', u'Resolution Action Updated Date', u'Community Board', u'Borough', u'X Coordinate (State Plane)', u'Y Coordinate (State Plane)', u'Park Facility Name', u'Park Borough', u'School Name', u'School Number', u'School Region', u'School Code', u'School Phone Number', u'School Address', u'School City', u'School State', u'School Zip', u'School Not Found', u'School or Citywide Complaint', u'Vehicle Type', u'Taxi Company Borough', u'Taxi Pick Up Location', u'Bridge Highway Name', u'Bridge Highway Direction', u'Road Ramp', u'Bridge Highway Segment', u'Garage Lot Name', u'Ferry Direction', u'Ferry Terminal Name', u'Latitude', u'Longitude', u'Location'], dtype='object')"
       ]
      }
     ],
     "prompt_number": 5
    },
    {
     "cell_type": "code",
     "collapsed": false,
     "input": [
      "data.shape"
     ],
     "language": "python",
     "metadata": {},
     "outputs": [
      {
       "metadata": {},
       "output_type": "pyout",
       "prompt_number": 34,
       "text": [
        "(8963915, 52)"
       ]
      }
     ],
     "prompt_number": 34
    },
    {
     "cell_type": "code",
     "collapsed": false,
     "input": [
      "data['Complaint Type'].unique()"
     ],
     "language": "python",
     "metadata": {},
     "outputs": [
      {
       "metadata": {},
       "output_type": "pyout",
       "prompt_number": 6,
       "text": [
        "array(['Opinion for the Mayor', 'Street Condition',\n",
        "       'Noise - Street/Sidewalk', 'Illegal Parking', 'Blocked Driveway',\n",
        "       'Noise - Commercial', 'Noise - Vehicle', 'Rodent',\n",
        "       'Street Sign - Damaged', 'DOF Literature Request',\n",
        "       'Benefit Card Replacement', 'Street Light Condition',\n",
        "       'For Hire Vehicle Complaint', 'Sidewalk Condition',\n",
        "       'Fire Safety Director - F58', 'Graffiti',\n",
        "       'Traffic Signal Condition', 'Street Sign - Missing',\n",
        "       'Highway Condition', 'Agency Issues', 'Dirty Conditions',\n",
        "       'Food Poisoning', 'HEAT/HOT WATER',\n",
        "       'Missed Collection (All Materials)', 'Noise - Park',\n",
        "       'Unsanitary Animal Pvt Property', 'Water System', 'Animal Abuse',\n",
        "       'Damaged Tree', 'Noise', 'Overgrown Tree/Branches', 'Sewer',\n",
        "       'Indoor Sewage', 'Taxi Complaint', 'Consumer Complaint',\n",
        "       'Derelict Vehicle', 'Sanitation Condition', 'Broken Muni Meter',\n",
        "       'Derelict Vehicles', 'Homeless Person Assistance',\n",
        "       'Animal in a Park', 'HPD Literature Request', 'Water Quality',\n",
        "       'Food Establishment', 'Other Enforcement', 'Recycling Enforcement',\n",
        "       'Illegal Tree Damage', 'Homeless Encampment', 'Taxi Compliment',\n",
        "       'Elevator', 'Building/Use', 'Smoking', 'Industrial Waste',\n",
        "       'DOT Literature Request', 'Dead Tree', 'Vacant Lot',\n",
        "       'Water Conservation', 'Street Sign - Dangling', 'Traffic',\n",
        "       'Drinking Water', 'Root/Sewer/Sidewalk Condition',\n",
        "       'General Construction/Plumbing', 'Violation of Park Rules',\n",
        "       'Bridge Condition', 'Air Quality', 'Noise - House of Worship',\n",
        "       'Plumbing', 'Asbestos', 'Litter Basket / Request', 'Found Property',\n",
        "       'Maintenance or Facility', 'Public Payphone Complaint',\n",
        "       'Bike/Roller/Skate Chronic', 'Vending', 'Hazardous Materials',\n",
        "       'Overflowing Litter Baskets', 'Taxi Report', 'Unleashed Dog',\n",
        "       'Electrical', 'SCRIE', 'Indoor Air Quality',\n",
        "       'DCA / DOH New License Application Request', 'Snow', 'DPR Internal',\n",
        "       'Unsanitary Pigeon Condition',\n",
        "       'Investigations and Discipline (IAD)',\n",
        "       'Special Projects Inspection Team (SPIT)',\n",
        "       'Request for Information', 'Noise - Helicopter',\n",
        "       'Senior Center Complaint', 'Derelict Bicycle', 'Drinking',\n",
        "       'PAINT/PLASTER', 'DOOR/WINDOW', 'APPLIANCE', 'ELECTRIC', 'GENERAL',\n",
        "       'PLUMBING', 'UNSANITARY CONDITION', 'WATER LEAK', 'FLOORING/STAIRS',\n",
        "       'OUTSIDE BUILDING', 'SAFETY', 'Complaint', 'Boilers', 'Lead',\n",
        "       'School Maintenance', 'Construction', 'Broken Parking Meter',\n",
        "       'Illegal Animal Kept as Pet', 'DEP Literature Request',\n",
        "       'Collection Truck Noise', 'Non-Residential Heat', 'Curb Condition',\n",
        "       'ELEVATOR', 'Literature Request', 'Disorderly Youth',\n",
        "       'Ferry Inquiry', 'Cranes and Derricks', 'EAP Inspection - F59',\n",
        "       'Bike Rack Condition', 'Special Enforcement',\n",
        "       'DOF Property - Reduction Issue', 'DOF Parking - Tax Exemption',\n",
        "       'BEST/Site Safety', 'Ferry Complaint', 'Fire Alarm - Reinspection',\n",
        "       'DCA Literature Request', 'Fire Alarm - New System',\n",
        "       'Urinating in Public', 'Mold', 'Panhandling', 'Parking Card',\n",
        "       'For Hire Vehicle Report', 'Beach/Pool/Sauna Complaint',\n",
        "       'City Vehicle Placard Complaint', 'Invitation',\n",
        "       'Fire Alarm - Modification', 'Adopt-A-Basket',\n",
        "       'DFTA Literature Request', 'Sweeping/Inadequate',\n",
        "       'Bus Stop Shelter Placement', 'Sweeping/Missed',\n",
        "       'Highway Sign - Dangling', 'Scaffold Safety',\n",
        "       'Emergency Response Team (ERT)', 'Overflowing Recycling Baskets',\n",
        "       'Posting Advertisement', 'Highway Sign - Damaged', 'Plant',\n",
        "       'Municipal Parking Facility', 'Compliment',\n",
        "       'Unsanitary Animal Facility', 'Ferry Permit', 'Illegal Fireworks',\n",
        "       'Tunnel Condition', 'OEM Literature Request', 'Stalled Sites',\n",
        "       'Public Assembly', 'Special Natural Area District (SNAD)',\n",
        "       'Bottled Water', 'Open Flame Permit', 'Tattooing',\n",
        "       'Animal Facility - No Permit', 'Lifeguard',\n",
        "       'DHS Income Savings Requirement', 'Forensic Engineering',\n",
        "       'Misc. Comments', 'Fire Alarm - Addition', 'Standpipe - Mechanical',\n",
        "       'Fire Alarm - Replacement', 'Internal Code',\n",
        "       'Transportation Provider Complaint', 'Miscellaneous Categories',\n",
        "       'Calorie Labeling', 'Window Guard', 'Radioactive Material',\n",
        "       'Highway Sign - Missing', 'Tanning', 'Hazmat Storage/Use',\n",
        "       'Legal Services Provider Complaint', 'Harboring Bees/Wasps',\n",
        "       'DPR Literature Request', 'Illegal Animal Sold', 'Rangehood',\n",
        "       'Sprinkler - Mechanical', 'X-Ray Machine/Equipment', 'Squeegee',\n",
        "       'SG-98', 'WNW', 'WLWP', 'SG-51', 'SDSC', 'SG-99', 'Public Toilet',\n",
        "       'SG-71', 'SDEP', 'Standing Water', 'STSK', 'IGR', 'Poison Ivy',\n",
        "       'DWD', 'Building Condition', 'Public Assembly - Temporary',\n",
        "       'Trans Fat', 'Gas Station Discharge Lines', 'VACANT APARTMENT',\n",
        "       'HEATING', 'NONCONST', 'CONSTRUCTION', 'GENERAL CONSTRUCTION',\n",
        "       'PAINT - PLASTER', 'Request Xmas Tree Collection',\n",
        "       'Sweeping/Missed-Inadequate', 'STRUCTURAL', 'Sewer  ',\n",
        "       'Water System  ', 'Summer Camp', 'Portable Toilet', 'SNW',\n",
        "       'Noise Survey', 'Comment', 'Teaching/Learning/Instruction', 'Forms',\n",
        "       'Unlicensed Dog', 'Home Care Provider Complaint', 'Lost Property',\n",
        "       'DOE Complaint or Compliment', 'Discipline and Suspension',\n",
        "       'Micro Switch', 'Registration and Transfers', 'Parent Leadership',\n",
        "       'Safety', 'Interior Demo', 'Health', 'No Child Left Behind',\n",
        "       'OEM Disabled Vehicle', 'Trapping Pigeon',\n",
        "       'DOF Property - Payment Issue', 'DOF Parking - Payment Issue',\n",
        "       'DOF Property - RPIE Issue', 'DOF Property - City Rebate',\n",
        "       'DOF Parking - Request Status', 'Illegal Animal - Sold/Kept'], dtype=object)"
       ]
      }
     ],
     "prompt_number": 6
    },
    {
     "cell_type": "markdown",
     "metadata": {},
     "source": [
      "### Subset Data by Zip and Complaint Type"
     ]
    },
    {
     "cell_type": "code",
     "collapsed": false,
     "input": [
      "items = ['Street Condition', 'Sidewalk Condition', 'Dirty Conditions', 'Missed Collection (All Materials)', 'Sanitation Condition', 'Derelict Vehicles', 'Derelict Vehicle', 'Recycling Enforcement', 'Industrial Waste', 'Vacant Lot', 'Root/Sewer/Sidewalk Condition', 'Litter Basket / Request', 'Hazardous Materials', 'Overflowing Litter Baskets', 'Derelict Bicycle', 'Curb Condition', 'Adopt-A-Basket', 'Sweeping/Missed', 'Overflowing Recycling Baskets', 'Sweeping/Missed-Inadequate']\n",
      "items"
     ],
     "language": "python",
     "metadata": {},
     "outputs": [
      {
       "metadata": {},
       "output_type": "pyout",
       "prompt_number": 8,
       "text": [
        "['Street Condition',\n",
        " 'Sidewalk Condition',\n",
        " 'Dirty Conditions',\n",
        " 'Missed Collection (All Materials)',\n",
        " 'Sanitation Condition',\n",
        " 'Derelict Vehicles',\n",
        " 'Derelict Vehicle',\n",
        " 'Recycling Enforcement',\n",
        " 'Industrial Waste',\n",
        " 'Vacant Lot',\n",
        " 'Root/Sewer/Sidewalk Condition',\n",
        " 'Litter Basket / Request',\n",
        " 'Hazardous Materials',\n",
        " 'Overflowing Litter Baskets',\n",
        " 'Derelict Bicycle',\n",
        " 'Curb Condition',\n",
        " 'Adopt-A-Basket',\n",
        " 'Sweeping/Missed',\n",
        " 'Overflowing Recycling Baskets',\n",
        " 'Sweeping/Missed-Inadequate']"
       ]
      }
     ],
     "prompt_number": 8
    },
    {
     "cell_type": "code",
     "collapsed": false,
     "input": [
      "all_gp = data[data['Incident Zip'] == 11222]\n",
      "gp = all_gp[all_gp['Complaint Type'].isin(items)]"
     ],
     "language": "python",
     "metadata": {},
     "outputs": [],
     "prompt_number": 57
    },
    {
     "cell_type": "markdown",
     "metadata": {},
     "source": [
      "### Top Ten Greenpoint Complaints\n",
      "\n",
      "Greenpoint contributed 13822 complaints to 311 from 2010 to present which is 0.15% of all complaints.  Of those complaints **'Street Conditions'** is the number two complaint.  Graffiti, which does not fall into our items list but potentially could, is the number five complaint.  16, 17 and 18 are 'Sanitation Condition', 'Rodent' and 'Dirty Conditions' in that order."
     ]
    },
    {
     "cell_type": "code",
     "collapsed": false,
     "input": [
      "all_gp['Complaint Type'].value_counts().head(10)"
     ],
     "language": "python",
     "metadata": {},
     "outputs": [
      {
       "metadata": {},
       "output_type": "pyout",
       "prompt_number": 67,
       "text": [
        "HEATING                   788\n",
        "Street Condition          758\n",
        "Street Light Condition    712\n",
        "Noise                     593\n",
        "Graffiti                  491\n",
        "Illegal Parking           473\n",
        "Noise - Commercial        470\n",
        "Blocked Driveway          468\n",
        "PLUMBING                  454\n",
        "Water System              453\n",
        "dtype: int64"
       ]
      }
     ],
     "prompt_number": 67
    },
    {
     "cell_type": "markdown",
     "metadata": {},
     "source": [
      "### Subset Greenpoint Complaints"
     ]
    },
    {
     "cell_type": "code",
     "collapsed": false,
     "input": [
      "%matplotlib inline\n",
      "gp['Complaint Type'].value_counts().plot(kind='bar')"
     ],
     "language": "python",
     "metadata": {},
     "outputs": [
      {
       "metadata": {},
       "output_type": "pyout",
       "prompt_number": 56,
       "text": [
        "<matplotlib.axes._subplots.AxesSubplot at 0x109c277d0>"
       ]
      },
      {
       "metadata": {},
       "output_type": "display_data",
       "png": "[encoded data removed]",
       "text": [
        "<matplotlib.figure.Figure at 0x10a3befd0>"
       ]
      }
     ],
     "prompt_number": 56
    },
    {
     "cell_type": "code",
     "collapsed": false,
     "input": [
      "plt.show()"
     ],
     "language": "python",
     "metadata": {},
     "outputs": [],
     "prompt_number": 39
    }
   ],
   "metadata": {}
  }
 ]
}